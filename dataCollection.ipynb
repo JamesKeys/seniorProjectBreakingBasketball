{
 "cells": [
  {
   "cell_type": "code",
   "execution_count": null,
   "metadata": {},
   "outputs": [],
   "source": [
    "import requests\n",
    "import ast\n",
    "import csv\n",
    "import pandas as pd\n",
    "from IPython.display import clear_output"
   ]
  },
  {
   "cell_type": "markdown",
   "metadata": {},
   "source": [
    "### Calendar Endpoint Collection"
   ]
  },
  {
   "cell_type": "code",
   "execution_count": null,
   "metadata": {},
   "outputs": [],
   "source": [
    "import time\n",
    "gameDates = []\n",
    "for year in range(2015,2020):\n",
    "    print(year)\n",
    "    endpoint = f\"http://data.nba.net/data/10s/prod/v1/{year}/schedule.json\"\n",
    "    schedule = requests.get(endpoint).json()\n",
    "    for game in schedule['league']['standard']:\n",
    "        gameDates.append(game['gameUrlCode'][0:8])\n",
    "    time.sleep(1)"
   ]
  },
  {
   "cell_type": "markdown",
   "metadata": {},
   "source": [
    "### Scoreboard Endpoint Collection\n",
    "This contains all of the game IDs"
   ]
  },
  {
   "cell_type": "markdown",
   "metadata": {},
   "source": [
    "## Get Game Stats"
   ]
  },
  {
   "cell_type": "code",
   "execution_count": null,
   "metadata": {},
   "outputs": [],
   "source": [
    "def checkKey(dict, key): \n",
    "    if key in dict.keys(): \n",
    "        return True\n",
    "    else:\n",
    "        return False"
   ]
  },
  {
   "cell_type": "code",
   "execution_count": null,
   "metadata": {},
   "outputs": [],
   "source": [
    "endpoint = 'https://data.nba.net/data/1h/prod/2017/teams_config.json'\n",
    "teams_config = requests.get(endpoint).json()\n",
    "\n",
    "teamIDs = []\n",
    "x=0\n",
    "\n",
    "timeOffset = dict([('ATL', -4),('BKN', -4),('BOS', -4),('CHA', -4),('CHI', -5),\n",
    "                   ('CLE', -4),('DAL', -5),('DEN', -6),('DET', -4),('GSW', -7),\n",
    "                   ('HOU', -5),('IND', -4),('LAC', -7),('LAL', -7),('MEM', -5),\n",
    "                   ('MIA', -4),('MIL', -5),('MIN', -5),('NOP', -5),('NYK', -4),\n",
    "                   ('OKC', -5),('ORL', -4),('PHI', -4),('PHX', -7),('POR', -7),\n",
    "                   ('SAC', -7),('SAS', -5),('TOR', -4),('UTA', -6),('WAS', -4)])\n",
    "\n",
    "for team in teams_config['teams']['config']:\n",
    "    #print(team.keys())\n",
    "    if(len(list(team.keys())) > 6):\n",
    "        teamIDs.append(int(team['teamId']))\n",
    "        x+=1\n",
    "        #print(team['tricode'], team['ttsName'])\n",
    "print(x)"
   ]
  },
  {
   "cell_type": "code",
   "execution_count": null,
   "metadata": {},
   "outputs": [],
   "source": [
    "date = []\n",
    "gameIdList = []\n",
    "hTeamIds = []\n",
    "vTeamIds = []\n",
    "hTeamPrevWins = []\n",
    "hTeamPrevLosses = []\n",
    "vTeamPrevWins = []\n",
    "vTeamPrevLosses = []\n",
    "hTeamWin = []\n",
    "\n",
    "for year in range(2015, 2019):\n",
    "    print(year)\n",
    "    endpoint = f\"https://data.nba.net/data/10s/prod/v1/{year}/schedule.json\"\n",
    "    schedule = requests.get(endpoint).json()\n",
    "    for game in schedule['league']['standard']:\n",
    "        homeCode = game['gameUrlCode'][-6:-3]\n",
    "        visCode = game['gameUrlCode'][-3:]\n",
    "        if game['seasonStageId'] == 1:\n",
    "            _ = -1\n",
    "        elif not (homeCode in timeOffset.keys() and visCode in timeOffset.keys()):\n",
    "            _ = -1\n",
    "        elif int(game['hTeam']['score']) > int(game['vTeam']['score']) and (teamIDs.count(int(game['hTeam']['teamId']))>0 and teamIDs.count(int(game['vTeam']['teamId']))>0):\n",
    "            date.append(game['gameUrlCode'][0:8])\n",
    "            gameIdList.append(game['gameId'])\n",
    "            hTeamIds.append(int(game['hTeam']['teamId']))\n",
    "            vTeamIds.append(int(game['vTeam']['teamId']))\n",
    "            hTeamPrevWins.append(int(game['hTeam']['win']) - 1)\n",
    "            vTeamPrevLosses.append(int(game['vTeam']['loss']) - 1)\n",
    "            vTeamPrevWins.append(int(game['vTeam']['win']))\n",
    "            hTeamPrevLosses.append(int(game['hTeam']['loss']))\n",
    "            hTeamWin.append(1)\n",
    "        elif teamIDs.count(int(game['hTeam']['teamId']))>0 and teamIDs.count(int(game['vTeam']['teamId']))>0:\n",
    "            date.append(game['gameUrlCode'][0:8])\n",
    "            gameIdList.append(game['gameId'])\n",
    "            hTeamIds.append(int(game['hTeam']['teamId']))\n",
    "            vTeamIds.append(int(game['vTeam']['teamId']))\n",
    "            vTeamPrevWins.append(int(game['vTeam']['win']) - 1)\n",
    "            hTeamPrevLosses.append(int(game['hTeam']['loss']) - 1)\n",
    "            hTeamPrevWins.append(int(game['hTeam']['win']))\n",
    "            vTeamPrevLosses.append(int(game['vTeam']['loss']))\n",
    "            hTeamWin.append(0)"
   ]
  },
  {
   "cell_type": "code",
   "execution_count": null,
   "metadata": {},
   "outputs": [],
   "source": [
    "gamesDF = pd.DataFrame()\n",
    "gamesDF['date'] = date\n",
    "gamesDF['gameId'] = gameIdList\n",
    "gamesDF['hTeamID'] = hTeamIds\n",
    "gamesDF['hTeamWs'] = hTeamPrevWins\n",
    "gamesDF['hTeamLs'] = hTeamPrevLosses\n",
    "gamesDF['vTeamID'] = vTeamIds\n",
    "gamesDF['vTeamWs'] = vTeamPrevWins\n",
    "gamesDF['vTeamLs'] = vTeamPrevLosses\n",
    "gamesDF['hWin'] = hTeamWin\n",
    "\n",
    "gamesDF.head()"
   ]
  },
  {
   "cell_type": "code",
   "execution_count": null,
   "metadata": {},
   "outputs": [],
   "source": [
    "columns = ['date', 'gameId', 'homeTeamID', 'homeWins', 'homeLosses', 'home_fastBreakPoints', 'home_pointsInPaint', 'home_biggestLead',\n",
    " 'home_pointsOffTurnovers', 'home_points', 'home_fgm', 'home_fga', 'home_ftm',\n",
    " 'home_fta', 'home_tpm', 'home_tpa', 'home_offReb', 'home_defReb', 'home_assists', 'home_pFouls', 'home_steals', 'home_turnovers',\n",
    " 'home_blocks', 'home_plusMinus', 'visitorTeamID', 'visitorWins', 'visitorLosses', 'visitor_fastBreakPoints', 'visitor_pointsInPaint',\n",
    " 'visitor_biggestLead', 'visitor_pointsOffTurnovers', 'visitor_points',\n",
    " 'visitor_fgm', 'visitor_fga', 'visitor_tpa', 'visitor_offReb', 'visitor_defReb', 'visitor_assists', 'visitor_pFouls', 'visitor_steals',\n",
    " 'visitor_turnovers', 'visitor_blocks', 'visitor_plusMinus']\n",
    "df = pd.DataFrame(columns=columns)\n",
    "\n",
    "df['date'], df['gameId'], df['homeTeamID'], df['homeWins'], df['homeLosses'] = gamesDF['date'], gamesDF['gameId'], gamesDF['hTeamID'], gamesDF['hTeamWs'], gamesDF['hTeamLs']\n",
    "df['visitorTeamID'], df['visitorWins'], df['visitorLosses'] = gamesDF['vTeamID'], gamesDF['vTeamWs'], gamesDF['vTeamLs']\n",
    "df['hWin'] = gamesDF['hWin']\n",
    "\n",
    "for i, row in df.iterrows():\n",
    "    thisDate = row['date']\n",
    "    thisGameID = row['gameId']\n",
    "    endpoint = f\"https://data.nba.net/data/10s/prod/v1/{thisDate}/{thisGameID}_boxscore.json\"\n",
    "    boxScore = requests.get(endpoint).json()\n",
    "    \n",
    "    if 'stats' in boxScore.keys():\n",
    "        boxScore = boxScore['stats']\n",
    "        \n",
    "        clear_output(wait=True)\n",
    "        print(f'{round(100*(i/len(df)),2)}% complete')\n",
    "        thisDate = row['date']\n",
    "        thisGameID = row['gameId']\n",
    "        endpoint = f\"https://data.nba.net/data/10s/prod/v1/{thisDate}/{thisGameID}_boxscore.json\"\n",
    "        boxScore = requests.get(endpoint).json()['stats']\n",
    "        for columnSet1 in columns[5:9]:\n",
    "            df.at[i, columnSet1] = int(boxScore['hTeam'][columnSet1[5:]])\n",
    "        for columnSet2 in columns[9:24]:\n",
    "            df.at[i, columnSet2] = int(boxScore['hTeam']['totals'][columnSet2[5:]])\n",
    "                \n",
    "        for columnSet3 in columns[27:31]:\n",
    "            df.at[i, columnSet3] = int(boxScore['vTeam'][columnSet3[8:]])\n",
    "        for columnSet4 in columns[31:46]:\n",
    "            df.at[i, columnSet4] = int(boxScore['vTeam']['totals'][columnSet4[8:]])\n",
    "\n",
    "        \n",
    "df.head()"
   ]
  },
  {
   "cell_type": "code",
   "execution_count": null,
   "metadata": {},
   "outputs": [],
   "source": []
  },
  {
   "cell_type": "code",
   "execution_count": null,
   "metadata": {},
   "outputs": [],
   "source": [
    "df.to_csv('gameData.csv')"
   ]
  },
  {
   "cell_type": "code",
   "execution_count": null,
   "metadata": {},
   "outputs": [],
   "source": []
  },
  {
   "cell_type": "code",
   "execution_count": null,
   "metadata": {},
   "outputs": [],
   "source": [
    "# Find out what team is each ID: 1610612744 1610612760 Kevin Durant 2015\n",
    "\n",
    "endpoint = f\"https://data.nba.net/data/10s/prod/v1/2015/teams.json\"\n",
    "teams = requests.get(endpoint).json()\n",
    "for team in teams['league']['standard']:\n",
    "    if team['teamId'] == \"1610612739\":\n",
    "        print(team['city'], team['nickname'])"
   ]
  },
  {
   "cell_type": "code",
   "execution_count": null,
   "metadata": {
    "scrolled": true
   },
   "outputs": [],
   "source": [
    "teams = requests.get(\"http://data.nba.net/data/10s/prod/v1/2019/teams.json\").json()\n",
    "teamsDict = {}\n",
    "for team in teams['league']['standard']:\n",
    "    if team['isNBAFranchise']:\n",
    "        teamsDict.update( {team['teamId'] : team['fullName'] })"
   ]
  },
  {
   "cell_type": "code",
   "execution_count": null,
   "metadata": {},
   "outputs": [],
   "source": [
    "hTeam, hScore, vTeam, vScore = [], [], [], []\n",
    "\n",
    "lastGameDate = 0\n",
    "gameThisDay = 0\n",
    "i = 0\n",
    "for gameDate in gameDates:\n",
    "    endpoint = f\"https://data.nba.net/data/10s/prod/v1/{gameDate}/scoreboard.json\"\n",
    "    scoreboard = requests.get(endpoint).json()\n",
    "    if lastGameDate == gameDate:\n",
    "        gameThisDay += 1\n",
    "    else:\n",
    "        gameThisDay = 0\n",
    "        lastGameDate = gameDate\n",
    "    if scoreboard['games'][gameThisDay]['gameId'][0:3] != '001':\n",
    "        teams = scoreboard['games'][gameThisDay]\n",
    "        hTeam.append(teamsDict[teams['hTeam']['teamId']])\n",
    "        vTeam.append(teamsDict[teams['vTeam']['teamId']])\n",
    "        hScore.append(teams['hTeam']['score'])\n",
    "        vScore.append(teams['vTeam']['score'])\n",
    "        print('Home Team:', teamsDict[teams['hTeam']['teamId']], teams['hTeam']['score'], 'Visitor Team:', teamsDict[teams['vTeam']['teamId']], teams['vTeam']['score'])\n",
    "    else:\n",
    "        gameDates.remove(gameDate)\n",
    "    i+=1"
   ]
  },
  {
   "cell_type": "code",
   "execution_count": null,
   "metadata": {},
   "outputs": [],
   "source": []
  },
  {
   "cell_type": "code",
   "execution_count": null,
   "metadata": {},
   "outputs": [],
   "source": []
  },
  {
   "cell_type": "raw",
   "metadata": {},
   "source": [
    "personId, firstName, lastName, teamId, pos, heightM, weightP, dob, yearsPro = [],[],[],[],[],[],[],[],[]\n",
    "cols = ['personId', 'firstName', 'lastName', 'teamId', 'pos', 'heightM', 'weightP', 'dob', 'yearsPro']\n",
    "#for year in range(2015,2019):\n",
    "endpoint = f\"https://data.nba.net/data/10s/prod/v1/2015/players.json\"\n",
    "players = requests.get(endpoint).json()\n",
    "print(list(players['league']['standard'][0].keys()))\n",
    "for players in players['league']['standard']:\n",
    "    personId.append(players['personId'])\n",
    "    firstName.append(players['firstName'])\n",
    "    lastName.append(players['lastName'])\n",
    "    teamId.append(players['teamId'])\n",
    "    pos.append(players['pos'])\n",
    "    heightM.append(players['heightMeters'])\n",
    "    weightP.append(players['weightPounds'])\n",
    "    dob.append(players['dateOfBirthUTC'])\n",
    "    yearsPro.append(players['yearsPro'])\n",
    "lists = [personId, firstName, lastName, teamId, pos, heightM, weightP, dob, yearsPro]"
   ]
  },
  {
   "cell_type": "code",
   "execution_count": null,
   "metadata": {},
   "outputs": [],
   "source": []
  },
  {
   "cell_type": "code",
   "execution_count": null,
   "metadata": {},
   "outputs": [],
   "source": [
    "# > 26 active players are in preseason games....."
   ]
  }
 ],
 "metadata": {
  "kernelspec": {
   "display_name": "Python 3",
   "language": "python",
   "name": "python3"
  },
  "language_info": {
   "codemirror_mode": {
    "name": "ipython",
    "version": 3
   },
   "file_extension": ".py",
   "mimetype": "text/x-python",
   "name": "python",
   "nbconvert_exporter": "python",
   "pygments_lexer": "ipython3",
   "version": "3.7.4"
  }
 },
 "nbformat": 4,
 "nbformat_minor": 4
}
